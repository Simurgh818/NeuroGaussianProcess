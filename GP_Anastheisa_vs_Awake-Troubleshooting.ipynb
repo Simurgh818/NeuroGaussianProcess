{
 "cells": [
  {
   "cell_type": "markdown",
   "metadata": {
    "tags": []
   },
   "source": [
    "# Gaussian Proess Exercise on a CSV dataset and sampling from it later. "
   ]
  },
  {
   "cell_type": "code",
   "execution_count": 1,
   "metadata": {},
   "outputs": [],
   "source": [
    "import numpy as np\n",
    "import matplotlib\n",
    "from matplotlib import pyplot as plt\n",
    "import seaborn as sns\n",
    "# plt.style.use('dark_background')\n",
    "import GPy"
   ]
  },
  {
   "cell_type": "code",
   "execution_count": 2,
   "metadata": {},
   "outputs": [],
   "source": [
    "# print(plt.style.available)"
   ]
  },
  {
   "cell_type": "markdown",
   "metadata": {},
   "source": [
    "## 1. Import the dataset"
   ]
  },
  {
   "cell_type": "code",
   "execution_count": 3,
   "metadata": {},
   "outputs": [
    {
     "data": {
      "text/html": [
       "<div>\n",
       "<style scoped>\n",
       "    .dataframe tbody tr th:only-of-type {\n",
       "        vertical-align: middle;\n",
       "    }\n",
       "\n",
       "    .dataframe tbody tr th {\n",
       "        vertical-align: top;\n",
       "    }\n",
       "\n",
       "    .dataframe thead th {\n",
       "        text-align: right;\n",
       "    }\n",
       "</style>\n",
       "<table border=\"1\" class=\"dataframe\">\n",
       "  <thead>\n",
       "    <tr style=\"text-align: right;\">\n",
       "      <th></th>\n",
       "      <th>Stim_1</th>\n",
       "      <th>Stim_2</th>\n",
       "      <th>Xk0_1</th>\n",
       "      <th>Xk0_2</th>\n",
       "      <th>Xk0_3</th>\n",
       "      <th>Xk0_4</th>\n",
       "      <th>Xk0_5</th>\n",
       "      <th>Xk0_6</th>\n",
       "      <th>Xk0_7</th>\n",
       "      <th>Xk0_8</th>\n",
       "      <th>...</th>\n",
       "      <th>Xk1_91</th>\n",
       "      <th>Xk1_92</th>\n",
       "      <th>Xk1_93</th>\n",
       "      <th>Xk1_94</th>\n",
       "      <th>Xk1_95</th>\n",
       "      <th>Xk1_96</th>\n",
       "      <th>Xk1_97</th>\n",
       "      <th>Xk1_98</th>\n",
       "      <th>Xk1_99</th>\n",
       "      <th>Xk1_100</th>\n",
       "    </tr>\n",
       "  </thead>\n",
       "  <tbody>\n",
       "    <tr>\n",
       "      <th>0</th>\n",
       "      <td>17</td>\n",
       "      <td>30</td>\n",
       "      <td>1.066899e-07</td>\n",
       "      <td>4.362881e-09</td>\n",
       "      <td>6.410145e-10</td>\n",
       "      <td>6.153980e-10</td>\n",
       "      <td>4.952555e-10</td>\n",
       "      <td>3.655776e-10</td>\n",
       "      <td>6.689563e-10</td>\n",
       "      <td>4.548710e-10</td>\n",
       "      <td>...</td>\n",
       "      <td>9.614848e-13</td>\n",
       "      <td>5.535816e-13</td>\n",
       "      <td>3.549981e-13</td>\n",
       "      <td>2.959776e-13</td>\n",
       "      <td>6.462898e-13</td>\n",
       "      <td>9.176671e-13</td>\n",
       "      <td>7.071067e-13</td>\n",
       "      <td>7.704253e-13</td>\n",
       "      <td>1.278144e-12</td>\n",
       "      <td>6.975427e-13</td>\n",
       "    </tr>\n",
       "    <tr>\n",
       "      <th>1</th>\n",
       "      <td>42</td>\n",
       "      <td>40</td>\n",
       "      <td>9.644295e-08</td>\n",
       "      <td>1.100460e-09</td>\n",
       "      <td>3.698362e-10</td>\n",
       "      <td>1.196834e-10</td>\n",
       "      <td>1.135362e-10</td>\n",
       "      <td>1.471786e-10</td>\n",
       "      <td>3.404247e-10</td>\n",
       "      <td>4.498116e-10</td>\n",
       "      <td>...</td>\n",
       "      <td>1.350018e-12</td>\n",
       "      <td>1.003581e-12</td>\n",
       "      <td>7.857398e-13</td>\n",
       "      <td>1.141451e-12</td>\n",
       "      <td>8.279703e-13</td>\n",
       "      <td>1.007723e-12</td>\n",
       "      <td>1.160121e-12</td>\n",
       "      <td>9.708206e-13</td>\n",
       "      <td>5.918814e-13</td>\n",
       "      <td>7.502253e-13</td>\n",
       "    </tr>\n",
       "    <tr>\n",
       "      <th>2</th>\n",
       "      <td>35</td>\n",
       "      <td>30</td>\n",
       "      <td>9.664707e-08</td>\n",
       "      <td>1.686739e-09</td>\n",
       "      <td>1.383835e-09</td>\n",
       "      <td>9.779574e-10</td>\n",
       "      <td>2.740501e-10</td>\n",
       "      <td>2.981321e-10</td>\n",
       "      <td>3.574340e-10</td>\n",
       "      <td>4.000314e-10</td>\n",
       "      <td>...</td>\n",
       "      <td>1.167509e-12</td>\n",
       "      <td>7.559837e-13</td>\n",
       "      <td>1.333016e-12</td>\n",
       "      <td>1.637356e-12</td>\n",
       "      <td>2.252303e-12</td>\n",
       "      <td>9.505286e-13</td>\n",
       "      <td>1.173716e-12</td>\n",
       "      <td>1.199101e-12</td>\n",
       "      <td>8.871386e-13</td>\n",
       "      <td>9.026766e-13</td>\n",
       "    </tr>\n",
       "    <tr>\n",
       "      <th>3</th>\n",
       "      <td>23</td>\n",
       "      <td>50</td>\n",
       "      <td>9.750570e-08</td>\n",
       "      <td>1.306145e-09</td>\n",
       "      <td>3.598379e-10</td>\n",
       "      <td>2.804073e-10</td>\n",
       "      <td>2.125693e-10</td>\n",
       "      <td>2.026804e-10</td>\n",
       "      <td>2.883272e-10</td>\n",
       "      <td>2.668982e-10</td>\n",
       "      <td>...</td>\n",
       "      <td>1.366467e-12</td>\n",
       "      <td>2.443904e-12</td>\n",
       "      <td>2.535353e-12</td>\n",
       "      <td>1.229021e-12</td>\n",
       "      <td>9.005429e-13</td>\n",
       "      <td>1.069436e-12</td>\n",
       "      <td>9.512349e-13</td>\n",
       "      <td>7.234959e-13</td>\n",
       "      <td>1.241802e-12</td>\n",
       "      <td>8.649545e-13</td>\n",
       "    </tr>\n",
       "    <tr>\n",
       "      <th>4</th>\n",
       "      <td>42</td>\n",
       "      <td>50</td>\n",
       "      <td>1.020247e-07</td>\n",
       "      <td>5.254584e-09</td>\n",
       "      <td>4.163858e-09</td>\n",
       "      <td>1.331331e-09</td>\n",
       "      <td>4.225174e-10</td>\n",
       "      <td>6.844851e-10</td>\n",
       "      <td>1.042377e-09</td>\n",
       "      <td>2.894596e-10</td>\n",
       "      <td>...</td>\n",
       "      <td>8.403170e-13</td>\n",
       "      <td>5.947037e-13</td>\n",
       "      <td>7.975147e-13</td>\n",
       "      <td>1.019247e-12</td>\n",
       "      <td>1.142941e-12</td>\n",
       "      <td>1.185287e-12</td>\n",
       "      <td>9.356042e-13</td>\n",
       "      <td>1.085042e-12</td>\n",
       "      <td>8.461304e-13</td>\n",
       "      <td>4.135749e-13</td>\n",
       "    </tr>\n",
       "    <tr>\n",
       "      <th>...</th>\n",
       "      <td>...</td>\n",
       "      <td>...</td>\n",
       "      <td>...</td>\n",
       "      <td>...</td>\n",
       "      <td>...</td>\n",
       "      <td>...</td>\n",
       "      <td>...</td>\n",
       "      <td>...</td>\n",
       "      <td>...</td>\n",
       "      <td>...</td>\n",
       "      <td>...</td>\n",
       "      <td>...</td>\n",
       "      <td>...</td>\n",
       "      <td>...</td>\n",
       "      <td>...</td>\n",
       "      <td>...</td>\n",
       "      <td>...</td>\n",
       "      <td>...</td>\n",
       "      <td>...</td>\n",
       "      <td>...</td>\n",
       "      <td>...</td>\n",
       "    </tr>\n",
       "    <tr>\n",
       "      <th>379</th>\n",
       "      <td>29</td>\n",
       "      <td>40</td>\n",
       "      <td>9.438211e-08</td>\n",
       "      <td>8.953157e-10</td>\n",
       "      <td>5.325697e-10</td>\n",
       "      <td>4.034846e-10</td>\n",
       "      <td>3.847985e-10</td>\n",
       "      <td>7.124458e-10</td>\n",
       "      <td>6.019659e-10</td>\n",
       "      <td>5.045601e-10</td>\n",
       "      <td>...</td>\n",
       "      <td>3.915490e-13</td>\n",
       "      <td>3.560932e-13</td>\n",
       "      <td>3.947136e-13</td>\n",
       "      <td>3.543831e-13</td>\n",
       "      <td>5.283461e-13</td>\n",
       "      <td>2.827943e-13</td>\n",
       "      <td>3.592653e-13</td>\n",
       "      <td>4.569682e-13</td>\n",
       "      <td>3.788961e-13</td>\n",
       "      <td>4.503580e-13</td>\n",
       "    </tr>\n",
       "    <tr>\n",
       "      <th>380</th>\n",
       "      <td>17</td>\n",
       "      <td>50</td>\n",
       "      <td>9.503613e-08</td>\n",
       "      <td>1.012707e-09</td>\n",
       "      <td>3.889901e-10</td>\n",
       "      <td>2.982987e-10</td>\n",
       "      <td>2.975021e-10</td>\n",
       "      <td>3.704936e-10</td>\n",
       "      <td>7.720063e-10</td>\n",
       "      <td>5.561578e-10</td>\n",
       "      <td>...</td>\n",
       "      <td>3.057599e-13</td>\n",
       "      <td>3.755007e-13</td>\n",
       "      <td>3.242915e-13</td>\n",
       "      <td>2.136803e-13</td>\n",
       "      <td>2.412199e-13</td>\n",
       "      <td>2.010544e-13</td>\n",
       "      <td>2.495399e-13</td>\n",
       "      <td>5.407236e-13</td>\n",
       "      <td>3.228808e-13</td>\n",
       "      <td>3.071144e-13</td>\n",
       "    </tr>\n",
       "    <tr>\n",
       "      <th>381</th>\n",
       "      <td>42</td>\n",
       "      <td>30</td>\n",
       "      <td>9.467551e-08</td>\n",
       "      <td>1.790015e-09</td>\n",
       "      <td>1.131069e-09</td>\n",
       "      <td>1.480148e-09</td>\n",
       "      <td>1.404767e-09</td>\n",
       "      <td>1.095754e-09</td>\n",
       "      <td>7.758978e-10</td>\n",
       "      <td>1.129526e-09</td>\n",
       "      <td>...</td>\n",
       "      <td>5.972925e-13</td>\n",
       "      <td>7.388474e-13</td>\n",
       "      <td>4.952310e-13</td>\n",
       "      <td>4.230530e-13</td>\n",
       "      <td>3.500203e-13</td>\n",
       "      <td>3.113596e-13</td>\n",
       "      <td>4.071015e-13</td>\n",
       "      <td>6.988792e-13</td>\n",
       "      <td>6.040085e-13</td>\n",
       "      <td>3.130020e-13</td>\n",
       "    </tr>\n",
       "    <tr>\n",
       "      <th>382</th>\n",
       "      <td>7</td>\n",
       "      <td>50</td>\n",
       "      <td>9.344372e-08</td>\n",
       "      <td>8.772011e-10</td>\n",
       "      <td>4.970744e-10</td>\n",
       "      <td>5.333557e-10</td>\n",
       "      <td>4.927356e-10</td>\n",
       "      <td>7.601632e-10</td>\n",
       "      <td>6.495486e-10</td>\n",
       "      <td>4.785051e-10</td>\n",
       "      <td>...</td>\n",
       "      <td>2.582216e-13</td>\n",
       "      <td>2.178556e-13</td>\n",
       "      <td>1.779925e-13</td>\n",
       "      <td>2.533067e-13</td>\n",
       "      <td>1.734665e-13</td>\n",
       "      <td>1.106245e-13</td>\n",
       "      <td>1.546325e-13</td>\n",
       "      <td>3.050555e-13</td>\n",
       "      <td>3.590836e-13</td>\n",
       "      <td>3.578827e-13</td>\n",
       "    </tr>\n",
       "    <tr>\n",
       "      <th>383</th>\n",
       "      <td>23</td>\n",
       "      <td>50</td>\n",
       "      <td>9.561532e-08</td>\n",
       "      <td>2.005949e-09</td>\n",
       "      <td>3.758392e-10</td>\n",
       "      <td>4.841670e-10</td>\n",
       "      <td>1.121483e-09</td>\n",
       "      <td>7.579907e-10</td>\n",
       "      <td>3.269754e-10</td>\n",
       "      <td>2.652351e-10</td>\n",
       "      <td>...</td>\n",
       "      <td>3.321941e-13</td>\n",
       "      <td>3.849869e-13</td>\n",
       "      <td>4.204187e-13</td>\n",
       "      <td>5.121107e-13</td>\n",
       "      <td>5.898898e-13</td>\n",
       "      <td>5.522000e-13</td>\n",
       "      <td>5.559997e-13</td>\n",
       "      <td>3.924049e-13</td>\n",
       "      <td>3.757231e-13</td>\n",
       "      <td>3.879397e-13</td>\n",
       "    </tr>\n",
       "  </tbody>\n",
       "</table>\n",
       "<p>384 rows × 202 columns</p>\n",
       "</div>"
      ],
      "text/plain": [
       "     Stim_1  Stim_2         Xk0_1         Xk0_2         Xk0_3         Xk0_4  \\\n",
       "0        17      30  1.066899e-07  4.362881e-09  6.410145e-10  6.153980e-10   \n",
       "1        42      40  9.644295e-08  1.100460e-09  3.698362e-10  1.196834e-10   \n",
       "2        35      30  9.664707e-08  1.686739e-09  1.383835e-09  9.779574e-10   \n",
       "3        23      50  9.750570e-08  1.306145e-09  3.598379e-10  2.804073e-10   \n",
       "4        42      50  1.020247e-07  5.254584e-09  4.163858e-09  1.331331e-09   \n",
       "..      ...     ...           ...           ...           ...           ...   \n",
       "379      29      40  9.438211e-08  8.953157e-10  5.325697e-10  4.034846e-10   \n",
       "380      17      50  9.503613e-08  1.012707e-09  3.889901e-10  2.982987e-10   \n",
       "381      42      30  9.467551e-08  1.790015e-09  1.131069e-09  1.480148e-09   \n",
       "382       7      50  9.344372e-08  8.772011e-10  4.970744e-10  5.333557e-10   \n",
       "383      23      50  9.561532e-08  2.005949e-09  3.758392e-10  4.841670e-10   \n",
       "\n",
       "            Xk0_5         Xk0_6         Xk0_7         Xk0_8  ...  \\\n",
       "0    4.952555e-10  3.655776e-10  6.689563e-10  4.548710e-10  ...   \n",
       "1    1.135362e-10  1.471786e-10  3.404247e-10  4.498116e-10  ...   \n",
       "2    2.740501e-10  2.981321e-10  3.574340e-10  4.000314e-10  ...   \n",
       "3    2.125693e-10  2.026804e-10  2.883272e-10  2.668982e-10  ...   \n",
       "4    4.225174e-10  6.844851e-10  1.042377e-09  2.894596e-10  ...   \n",
       "..            ...           ...           ...           ...  ...   \n",
       "379  3.847985e-10  7.124458e-10  6.019659e-10  5.045601e-10  ...   \n",
       "380  2.975021e-10  3.704936e-10  7.720063e-10  5.561578e-10  ...   \n",
       "381  1.404767e-09  1.095754e-09  7.758978e-10  1.129526e-09  ...   \n",
       "382  4.927356e-10  7.601632e-10  6.495486e-10  4.785051e-10  ...   \n",
       "383  1.121483e-09  7.579907e-10  3.269754e-10  2.652351e-10  ...   \n",
       "\n",
       "           Xk1_91        Xk1_92        Xk1_93        Xk1_94        Xk1_95  \\\n",
       "0    9.614848e-13  5.535816e-13  3.549981e-13  2.959776e-13  6.462898e-13   \n",
       "1    1.350018e-12  1.003581e-12  7.857398e-13  1.141451e-12  8.279703e-13   \n",
       "2    1.167509e-12  7.559837e-13  1.333016e-12  1.637356e-12  2.252303e-12   \n",
       "3    1.366467e-12  2.443904e-12  2.535353e-12  1.229021e-12  9.005429e-13   \n",
       "4    8.403170e-13  5.947037e-13  7.975147e-13  1.019247e-12  1.142941e-12   \n",
       "..            ...           ...           ...           ...           ...   \n",
       "379  3.915490e-13  3.560932e-13  3.947136e-13  3.543831e-13  5.283461e-13   \n",
       "380  3.057599e-13  3.755007e-13  3.242915e-13  2.136803e-13  2.412199e-13   \n",
       "381  5.972925e-13  7.388474e-13  4.952310e-13  4.230530e-13  3.500203e-13   \n",
       "382  2.582216e-13  2.178556e-13  1.779925e-13  2.533067e-13  1.734665e-13   \n",
       "383  3.321941e-13  3.849869e-13  4.204187e-13  5.121107e-13  5.898898e-13   \n",
       "\n",
       "           Xk1_96        Xk1_97        Xk1_98        Xk1_99       Xk1_100  \n",
       "0    9.176671e-13  7.071067e-13  7.704253e-13  1.278144e-12  6.975427e-13  \n",
       "1    1.007723e-12  1.160121e-12  9.708206e-13  5.918814e-13  7.502253e-13  \n",
       "2    9.505286e-13  1.173716e-12  1.199101e-12  8.871386e-13  9.026766e-13  \n",
       "3    1.069436e-12  9.512349e-13  7.234959e-13  1.241802e-12  8.649545e-13  \n",
       "4    1.185287e-12  9.356042e-13  1.085042e-12  8.461304e-13  4.135749e-13  \n",
       "..            ...           ...           ...           ...           ...  \n",
       "379  2.827943e-13  3.592653e-13  4.569682e-13  3.788961e-13  4.503580e-13  \n",
       "380  2.010544e-13  2.495399e-13  5.407236e-13  3.228808e-13  3.071144e-13  \n",
       "381  3.113596e-13  4.071015e-13  6.988792e-13  6.040085e-13  3.130020e-13  \n",
       "382  1.106245e-13  1.546325e-13  3.050555e-13  3.590836e-13  3.578827e-13  \n",
       "383  5.522000e-13  5.559997e-13  3.924049e-13  3.757231e-13  3.879397e-13  \n",
       "\n",
       "[384 rows x 202 columns]"
      ]
     },
     "execution_count": 3,
     "metadata": {},
     "output_type": "execute_result"
    }
   ],
   "source": [
    "# Import datasets as pandas\n",
    "import pandas as pd\n",
    "# data_set = loadmat(\"Mark_4sec_CA1PSD_ISO_freqamp_020619.mat\")\n",
    "CA1_df = pd.read_csv(\"Mark_4sec_CA3PSD_ISO_freqamp_020619.csv\")\n",
    "CA1_df"
   ]
  },
  {
   "cell_type": "code",
   "execution_count": 4,
   "metadata": {},
   "outputs": [
    {
     "data": {
      "text/html": [
       "<div>\n",
       "<style scoped>\n",
       "    .dataframe tbody tr th:only-of-type {\n",
       "        vertical-align: middle;\n",
       "    }\n",
       "\n",
       "    .dataframe tbody tr th {\n",
       "        vertical-align: top;\n",
       "    }\n",
       "\n",
       "    .dataframe thead th {\n",
       "        text-align: right;\n",
       "    }\n",
       "</style>\n",
       "<table border=\"1\" class=\"dataframe\">\n",
       "  <thead>\n",
       "    <tr style=\"text-align: right;\">\n",
       "      <th></th>\n",
       "      <th>Stim_1</th>\n",
       "      <th>Stim_2</th>\n",
       "      <th>Xk0_1</th>\n",
       "      <th>Xk0_2</th>\n",
       "      <th>Xk0_3</th>\n",
       "      <th>Xk0_4</th>\n",
       "      <th>Xk0_5</th>\n",
       "      <th>Xk0_6</th>\n",
       "      <th>Xk0_7</th>\n",
       "      <th>Xk0_8</th>\n",
       "      <th>...</th>\n",
       "      <th>Xk1_91</th>\n",
       "      <th>Xk1_92</th>\n",
       "      <th>Xk1_93</th>\n",
       "      <th>Xk1_94</th>\n",
       "      <th>Xk1_95</th>\n",
       "      <th>Xk1_96</th>\n",
       "      <th>Xk1_97</th>\n",
       "      <th>Xk1_98</th>\n",
       "      <th>Xk1_99</th>\n",
       "      <th>Xk1_100</th>\n",
       "    </tr>\n",
       "  </thead>\n",
       "  <tbody>\n",
       "    <tr>\n",
       "      <th>count</th>\n",
       "      <td>384.000000</td>\n",
       "      <td>384.000000</td>\n",
       "      <td>3.840000e+02</td>\n",
       "      <td>3.840000e+02</td>\n",
       "      <td>3.840000e+02</td>\n",
       "      <td>3.840000e+02</td>\n",
       "      <td>3.840000e+02</td>\n",
       "      <td>3.840000e+02</td>\n",
       "      <td>3.840000e+02</td>\n",
       "      <td>3.840000e+02</td>\n",
       "      <td>...</td>\n",
       "      <td>3.840000e+02</td>\n",
       "      <td>3.840000e+02</td>\n",
       "      <td>3.840000e+02</td>\n",
       "      <td>3.840000e+02</td>\n",
       "      <td>3.840000e+02</td>\n",
       "      <td>3.840000e+02</td>\n",
       "      <td>3.840000e+02</td>\n",
       "      <td>3.840000e+02</td>\n",
       "      <td>3.840000e+02</td>\n",
       "      <td>3.840000e+02</td>\n",
       "    </tr>\n",
       "    <tr>\n",
       "      <th>mean</th>\n",
       "      <td>21.125000</td>\n",
       "      <td>25.000000</td>\n",
       "      <td>9.876748e-08</td>\n",
       "      <td>1.483792e-09</td>\n",
       "      <td>7.216810e-10</td>\n",
       "      <td>5.297563e-10</td>\n",
       "      <td>4.963279e-10</td>\n",
       "      <td>5.403563e-10</td>\n",
       "      <td>5.392557e-10</td>\n",
       "      <td>4.841397e-10</td>\n",
       "      <td>...</td>\n",
       "      <td>6.546182e-13</td>\n",
       "      <td>6.091531e-13</td>\n",
       "      <td>5.459146e-13</td>\n",
       "      <td>5.131811e-13</td>\n",
       "      <td>4.991757e-13</td>\n",
       "      <td>4.661958e-13</td>\n",
       "      <td>4.738421e-13</td>\n",
       "      <td>4.716295e-13</td>\n",
       "      <td>4.689914e-13</td>\n",
       "      <td>4.309777e-13</td>\n",
       "    </tr>\n",
       "    <tr>\n",
       "      <th>std</th>\n",
       "      <td>12.630313</td>\n",
       "      <td>17.100532</td>\n",
       "      <td>2.344670e-08</td>\n",
       "      <td>9.873200e-10</td>\n",
       "      <td>4.625125e-10</td>\n",
       "      <td>2.804616e-10</td>\n",
       "      <td>2.457717e-10</td>\n",
       "      <td>2.871590e-10</td>\n",
       "      <td>2.926409e-10</td>\n",
       "      <td>2.888415e-10</td>\n",
       "      <td>...</td>\n",
       "      <td>3.599384e-13</td>\n",
       "      <td>3.487042e-13</td>\n",
       "      <td>3.449344e-13</td>\n",
       "      <td>3.213658e-13</td>\n",
       "      <td>2.975148e-13</td>\n",
       "      <td>2.591702e-13</td>\n",
       "      <td>2.692950e-13</td>\n",
       "      <td>2.528458e-13</td>\n",
       "      <td>2.351999e-13</td>\n",
       "      <td>2.110681e-13</td>\n",
       "    </tr>\n",
       "    <tr>\n",
       "      <th>min</th>\n",
       "      <td>5.000000</td>\n",
       "      <td>0.000000</td>\n",
       "      <td>9.224978e-08</td>\n",
       "      <td>4.018869e-10</td>\n",
       "      <td>1.779852e-10</td>\n",
       "      <td>1.196834e-10</td>\n",
       "      <td>8.558949e-11</td>\n",
       "      <td>5.937738e-11</td>\n",
       "      <td>5.033034e-11</td>\n",
       "      <td>3.842182e-11</td>\n",
       "      <td>...</td>\n",
       "      <td>1.292999e-13</td>\n",
       "      <td>1.297780e-13</td>\n",
       "      <td>6.882206e-14</td>\n",
       "      <td>6.250159e-14</td>\n",
       "      <td>7.442178e-14</td>\n",
       "      <td>1.030722e-13</td>\n",
       "      <td>1.097927e-13</td>\n",
       "      <td>1.147326e-13</td>\n",
       "      <td>1.041554e-13</td>\n",
       "      <td>1.374316e-13</td>\n",
       "    </tr>\n",
       "    <tr>\n",
       "      <th>25%</th>\n",
       "      <td>10.000000</td>\n",
       "      <td>10.000000</td>\n",
       "      <td>9.467907e-08</td>\n",
       "      <td>7.756680e-10</td>\n",
       "      <td>3.950088e-10</td>\n",
       "      <td>3.139932e-10</td>\n",
       "      <td>3.081002e-10</td>\n",
       "      <td>3.292297e-10</td>\n",
       "      <td>3.149414e-10</td>\n",
       "      <td>2.533371e-10</td>\n",
       "      <td>...</td>\n",
       "      <td>3.921124e-13</td>\n",
       "      <td>3.629012e-13</td>\n",
       "      <td>3.203597e-13</td>\n",
       "      <td>2.946486e-13</td>\n",
       "      <td>2.972690e-13</td>\n",
       "      <td>2.745972e-13</td>\n",
       "      <td>2.990072e-13</td>\n",
       "      <td>3.003718e-13</td>\n",
       "      <td>3.096119e-13</td>\n",
       "      <td>2.838366e-13</td>\n",
       "    </tr>\n",
       "    <tr>\n",
       "      <th>50%</th>\n",
       "      <td>20.000000</td>\n",
       "      <td>25.000000</td>\n",
       "      <td>9.589994e-08</td>\n",
       "      <td>1.195470e-09</td>\n",
       "      <td>5.937907e-10</td>\n",
       "      <td>4.923716e-10</td>\n",
       "      <td>4.553629e-10</td>\n",
       "      <td>5.000206e-10</td>\n",
       "      <td>5.065640e-10</td>\n",
       "      <td>4.327971e-10</td>\n",
       "      <td>...</td>\n",
       "      <td>5.770754e-13</td>\n",
       "      <td>5.490138e-13</td>\n",
       "      <td>4.637024e-13</td>\n",
       "      <td>4.273831e-13</td>\n",
       "      <td>4.251277e-13</td>\n",
       "      <td>4.168663e-13</td>\n",
       "      <td>3.992897e-13</td>\n",
       "      <td>4.026246e-13</td>\n",
       "      <td>4.029964e-13</td>\n",
       "      <td>3.855960e-13</td>\n",
       "    </tr>\n",
       "    <tr>\n",
       "      <th>75%</th>\n",
       "      <td>30.500000</td>\n",
       "      <td>40.000000</td>\n",
       "      <td>9.758217e-08</td>\n",
       "      <td>1.902026e-09</td>\n",
       "      <td>9.339533e-10</td>\n",
       "      <td>6.661477e-10</td>\n",
       "      <td>6.518402e-10</td>\n",
       "      <td>7.017185e-10</td>\n",
       "      <td>7.320325e-10</td>\n",
       "      <td>6.748503e-10</td>\n",
       "      <td>...</td>\n",
       "      <td>8.488597e-13</td>\n",
       "      <td>7.562070e-13</td>\n",
       "      <td>6.810909e-13</td>\n",
       "      <td>6.549298e-13</td>\n",
       "      <td>6.422870e-13</td>\n",
       "      <td>5.835571e-13</td>\n",
       "      <td>5.901386e-13</td>\n",
       "      <td>5.815182e-13</td>\n",
       "      <td>5.953072e-13</td>\n",
       "      <td>5.269147e-13</td>\n",
       "    </tr>\n",
       "    <tr>\n",
       "      <th>max</th>\n",
       "      <td>42.000000</td>\n",
       "      <td>50.000000</td>\n",
       "      <td>4.962646e-07</td>\n",
       "      <td>6.308812e-09</td>\n",
       "      <td>4.163858e-09</td>\n",
       "      <td>2.628835e-09</td>\n",
       "      <td>1.482603e-09</td>\n",
       "      <td>1.520968e-09</td>\n",
       "      <td>1.659829e-09</td>\n",
       "      <td>1.703842e-09</td>\n",
       "      <td>...</td>\n",
       "      <td>2.595211e-12</td>\n",
       "      <td>2.443904e-12</td>\n",
       "      <td>2.535353e-12</td>\n",
       "      <td>2.213978e-12</td>\n",
       "      <td>2.458930e-12</td>\n",
       "      <td>2.006133e-12</td>\n",
       "      <td>2.530077e-12</td>\n",
       "      <td>1.943353e-12</td>\n",
       "      <td>1.592802e-12</td>\n",
       "      <td>1.795189e-12</td>\n",
       "    </tr>\n",
       "  </tbody>\n",
       "</table>\n",
       "<p>8 rows × 202 columns</p>\n",
       "</div>"
      ],
      "text/plain": [
       "           Stim_1      Stim_2         Xk0_1         Xk0_2         Xk0_3  \\\n",
       "count  384.000000  384.000000  3.840000e+02  3.840000e+02  3.840000e+02   \n",
       "mean    21.125000   25.000000  9.876748e-08  1.483792e-09  7.216810e-10   \n",
       "std     12.630313   17.100532  2.344670e-08  9.873200e-10  4.625125e-10   \n",
       "min      5.000000    0.000000  9.224978e-08  4.018869e-10  1.779852e-10   \n",
       "25%     10.000000   10.000000  9.467907e-08  7.756680e-10  3.950088e-10   \n",
       "50%     20.000000   25.000000  9.589994e-08  1.195470e-09  5.937907e-10   \n",
       "75%     30.500000   40.000000  9.758217e-08  1.902026e-09  9.339533e-10   \n",
       "max     42.000000   50.000000  4.962646e-07  6.308812e-09  4.163858e-09   \n",
       "\n",
       "              Xk0_4         Xk0_5         Xk0_6         Xk0_7         Xk0_8  \\\n",
       "count  3.840000e+02  3.840000e+02  3.840000e+02  3.840000e+02  3.840000e+02   \n",
       "mean   5.297563e-10  4.963279e-10  5.403563e-10  5.392557e-10  4.841397e-10   \n",
       "std    2.804616e-10  2.457717e-10  2.871590e-10  2.926409e-10  2.888415e-10   \n",
       "min    1.196834e-10  8.558949e-11  5.937738e-11  5.033034e-11  3.842182e-11   \n",
       "25%    3.139932e-10  3.081002e-10  3.292297e-10  3.149414e-10  2.533371e-10   \n",
       "50%    4.923716e-10  4.553629e-10  5.000206e-10  5.065640e-10  4.327971e-10   \n",
       "75%    6.661477e-10  6.518402e-10  7.017185e-10  7.320325e-10  6.748503e-10   \n",
       "max    2.628835e-09  1.482603e-09  1.520968e-09  1.659829e-09  1.703842e-09   \n",
       "\n",
       "       ...        Xk1_91        Xk1_92        Xk1_93        Xk1_94  \\\n",
       "count  ...  3.840000e+02  3.840000e+02  3.840000e+02  3.840000e+02   \n",
       "mean   ...  6.546182e-13  6.091531e-13  5.459146e-13  5.131811e-13   \n",
       "std    ...  3.599384e-13  3.487042e-13  3.449344e-13  3.213658e-13   \n",
       "min    ...  1.292999e-13  1.297780e-13  6.882206e-14  6.250159e-14   \n",
       "25%    ...  3.921124e-13  3.629012e-13  3.203597e-13  2.946486e-13   \n",
       "50%    ...  5.770754e-13  5.490138e-13  4.637024e-13  4.273831e-13   \n",
       "75%    ...  8.488597e-13  7.562070e-13  6.810909e-13  6.549298e-13   \n",
       "max    ...  2.595211e-12  2.443904e-12  2.535353e-12  2.213978e-12   \n",
       "\n",
       "             Xk1_95        Xk1_96        Xk1_97        Xk1_98        Xk1_99  \\\n",
       "count  3.840000e+02  3.840000e+02  3.840000e+02  3.840000e+02  3.840000e+02   \n",
       "mean   4.991757e-13  4.661958e-13  4.738421e-13  4.716295e-13  4.689914e-13   \n",
       "std    2.975148e-13  2.591702e-13  2.692950e-13  2.528458e-13  2.351999e-13   \n",
       "min    7.442178e-14  1.030722e-13  1.097927e-13  1.147326e-13  1.041554e-13   \n",
       "25%    2.972690e-13  2.745972e-13  2.990072e-13  3.003718e-13  3.096119e-13   \n",
       "50%    4.251277e-13  4.168663e-13  3.992897e-13  4.026246e-13  4.029964e-13   \n",
       "75%    6.422870e-13  5.835571e-13  5.901386e-13  5.815182e-13  5.953072e-13   \n",
       "max    2.458930e-12  2.006133e-12  2.530077e-12  1.943353e-12  1.592802e-12   \n",
       "\n",
       "            Xk1_100  \n",
       "count  3.840000e+02  \n",
       "mean   4.309777e-13  \n",
       "std    2.110681e-13  \n",
       "min    1.374316e-13  \n",
       "25%    2.838366e-13  \n",
       "50%    3.855960e-13  \n",
       "75%    5.269147e-13  \n",
       "max    1.795189e-12  \n",
       "\n",
       "[8 rows x 202 columns]"
      ]
     },
     "execution_count": 4,
     "metadata": {},
     "output_type": "execute_result"
    }
   ],
   "source": [
    "CA1_df.describe()"
   ]
  },
  {
   "cell_type": "code",
   "execution_count": 5,
   "metadata": {},
   "outputs": [],
   "source": [
    "# Finding the columns representing freq 32 to 50 Hz\n",
    "# np.r_[0:2, 32:52]"
   ]
  },
  {
   "cell_type": "markdown",
   "metadata": {},
   "source": [
    "###### 2. Finding the stimulation frequency and amplitude and pre stimulus gamma columns "
   ]
  },
  {
   "cell_type": "code",
   "execution_count": 6,
   "metadata": {},
   "outputs": [
    {
     "name": "stdout",
     "output_type": "stream",
     "text": [
      "Stim_1    4.200000e+01\n",
      "Stim_2    4.000000e+01\n",
      "Xk0_32    3.920551e-11\n",
      "Xk0_33    2.185532e-11\n",
      "Xk0_34    1.065976e-11\n",
      "Xk0_35    1.248434e-11\n",
      "Xk0_36    2.544466e-11\n",
      "Xk0_37    1.974901e-11\n",
      "Xk0_38    7.941763e-12\n",
      "Xk0_39    1.519301e-11\n",
      "Xk0_40    1.555842e-11\n",
      "Xk0_41    1.090195e-11\n",
      "Xk0_42    8.529903e-12\n",
      "Xk0_43    7.444033e-12\n",
      "Xk0_44    3.461845e-12\n",
      "Xk0_45    6.004862e-12\n",
      "Xk0_46    1.083304e-11\n",
      "Xk0_47    7.732998e-12\n",
      "Xk0_48    5.337480e-12\n",
      "Xk0_49    8.791972e-12\n",
      "Xk0_50    5.464634e-12\n",
      "Name: 1, dtype: float64\n"
     ]
    }
   ],
   "source": [
    "# gamma = np.arange(32,51)\n",
    "# print(gamma)\n",
    "print(CA1_df.iloc[1, np.r_[0:2, 33:52]])"
   ]
  },
  {
   "cell_type": "markdown",
   "metadata": {},
   "source": [
    "# sum of pre stimulation gamma\n",
    "\n",
    "data = np.sum(CA1_df.iloc[:, 33:52], axis=1)\n",
    "sum_preStim_gamma = pd.DataFrame(data=data, columns=['sum_preStim_gamma'])\n",
    "np.shape(sum_preStim_gamma)\n",
    "sum_preStim_gamma"
   ]
  },
  {
   "cell_type": "markdown",
   "metadata": {},
   "source": [
    "## 3. Select the gamma freq. stimulations\n",
    "\n",
    "CA1_df_gamma = CA1_df[CA1_df['Stim_1']>32]\n",
    "CA1_df_gamma"
   ]
  },
  {
   "cell_type": "code",
   "execution_count": 7,
   "metadata": {},
   "outputs": [
    {
     "name": "stdout",
     "output_type": "stream",
     "text": [
      "(384, 1)\n"
     ]
    },
    {
     "data": {
      "text/html": [
       "<div>\n",
       "<style scoped>\n",
       "    .dataframe tbody tr th:only-of-type {\n",
       "        vertical-align: middle;\n",
       "    }\n",
       "\n",
       "    .dataframe tbody tr th {\n",
       "        vertical-align: top;\n",
       "    }\n",
       "\n",
       "    .dataframe thead th {\n",
       "        text-align: right;\n",
       "    }\n",
       "</style>\n",
       "<table border=\"1\" class=\"dataframe\">\n",
       "  <thead>\n",
       "    <tr style=\"text-align: right;\">\n",
       "      <th></th>\n",
       "      <th>Y</th>\n",
       "    </tr>\n",
       "  </thead>\n",
       "  <tbody>\n",
       "    <tr>\n",
       "      <th>count</th>\n",
       "      <td>3.840000e+02</td>\n",
       "    </tr>\n",
       "    <tr>\n",
       "      <th>mean</th>\n",
       "      <td>1.305258e-09</td>\n",
       "    </tr>\n",
       "    <tr>\n",
       "      <th>std</th>\n",
       "      <td>1.023751e-09</td>\n",
       "    </tr>\n",
       "    <tr>\n",
       "      <th>min</th>\n",
       "      <td>9.442787e-11</td>\n",
       "    </tr>\n",
       "    <tr>\n",
       "      <th>25%</th>\n",
       "      <td>5.366985e-10</td>\n",
       "    </tr>\n",
       "    <tr>\n",
       "      <th>50%</th>\n",
       "      <td>9.944630e-10</td>\n",
       "    </tr>\n",
       "    <tr>\n",
       "      <th>75%</th>\n",
       "      <td>1.780588e-09</td>\n",
       "    </tr>\n",
       "    <tr>\n",
       "      <th>max</th>\n",
       "      <td>4.827246e-09</td>\n",
       "    </tr>\n",
       "  </tbody>\n",
       "</table>\n",
       "</div>"
      ],
      "text/plain": [
       "                  Y\n",
       "count  3.840000e+02\n",
       "mean   1.305258e-09\n",
       "std    1.023751e-09\n",
       "min    9.442787e-11\n",
       "25%    5.366985e-10\n",
       "50%    9.944630e-10\n",
       "75%    1.780588e-09\n",
       "max    4.827246e-09"
      ]
     },
     "execution_count": 7,
     "metadata": {},
     "output_type": "execute_result"
    }
   ],
   "source": [
    "# calculate mean psd for Post Stim. Gamma, the Xk1\n",
    "Y = np.sum(CA1_df.iloc[:, 133:152],axis=1)\n",
    "Y = pd.DataFrame({'Y':Y})\n",
    "print(np.shape(Y))\n",
    "# Y.reset_index(drop=True, inplace=True)\n",
    "# Y_reshape =Y[:, np.newaxis]\n",
    "Y.describe()\n",
    "# print(np.shape(Y_reshape))"
   ]
  },
  {
   "cell_type": "code",
   "execution_count": 8,
   "metadata": {},
   "outputs": [
    {
     "data": {
      "text/plain": [
       "<bound method NDFrame.describe of             Y\n",
       "0    3.644022\n",
       "1    2.952149\n",
       "2    3.613921\n",
       "3    1.668010\n",
       "4    2.854172\n",
       "..        ...\n",
       "379  0.701020\n",
       "380  0.987109\n",
       "381  1.817511\n",
       "382  0.840083\n",
       "383  1.125681\n",
       "\n",
       "[384 rows x 1 columns]>"
      ]
     },
     "execution_count": 8,
     "metadata": {},
     "output_type": "execute_result"
    }
   ],
   "source": [
    "Y= Y*1e9\n",
    "Y.describe"
   ]
  },
  {
   "cell_type": "code",
   "execution_count": 9,
   "metadata": {},
   "outputs": [
    {
     "data": {
      "text/plain": [
       "Text(0.5, 0, 'Sum PostStim Gamma')"
      ]
     },
     "execution_count": 9,
     "metadata": {},
     "output_type": "execute_result"
    },
    {
     "data": {
      "image/png": "[encoded data removed]",
      "text/plain": [
       "<Figure size 432x288 with 1 Axes>"
      ]
     },
     "metadata": {
      "needs_background": "light"
     },
     "output_type": "display_data"
    }
   ],
   "source": [
    "plt.hist(Y, bins=10)\n",
    "plt.xlabel(\"Sum PostStim Gamma\")"
   ]
  },
  {
   "cell_type": "markdown",
   "metadata": {},
   "source": [
    "## 4. One dimensional GP"
   ]
  },
  {
   "cell_type": "code",
   "execution_count": 10,
   "metadata": {},
   "outputs": [
    {
     "name": "stdout",
     "output_type": "stream",
     "text": [
      "(384, 1)\n"
     ]
    }
   ],
   "source": [
    "X = CA1_df.iloc[:,  0:1]\n",
    "X\n",
    "print(np.shape(X))"
   ]
  },
  {
   "cell_type": "code",
   "execution_count": 11,
   "metadata": {},
   "outputs": [
    {
     "data": {
      "text/html": [
       "<div>\n",
       "<style scoped>\n",
       "    .dataframe tbody tr th:only-of-type {\n",
       "        vertical-align: middle;\n",
       "    }\n",
       "\n",
       "    .dataframe tbody tr th {\n",
       "        vertical-align: top;\n",
       "    }\n",
       "\n",
       "    .dataframe thead th {\n",
       "        text-align: right;\n",
       "    }\n",
       "</style>\n",
       "<table border=\"1\" class=\"dataframe\">\n",
       "  <thead>\n",
       "    <tr style=\"text-align: right;\">\n",
       "      <th></th>\n",
       "      <th>Stim_1</th>\n",
       "    </tr>\n",
       "  </thead>\n",
       "  <tbody>\n",
       "    <tr>\n",
       "      <th>0</th>\n",
       "      <td>17</td>\n",
       "    </tr>\n",
       "    <tr>\n",
       "      <th>1</th>\n",
       "      <td>42</td>\n",
       "    </tr>\n",
       "    <tr>\n",
       "      <th>2</th>\n",
       "      <td>35</td>\n",
       "    </tr>\n",
       "    <tr>\n",
       "      <th>3</th>\n",
       "      <td>23</td>\n",
       "    </tr>\n",
       "    <tr>\n",
       "      <th>4</th>\n",
       "      <td>42</td>\n",
       "    </tr>\n",
       "  </tbody>\n",
       "</table>\n",
       "</div>"
      ],
      "text/plain": [
       "   Stim_1\n",
       "0      17\n",
       "1      42\n",
       "2      35\n",
       "3      23\n",
       "4      42"
      ]
     },
     "execution_count": 11,
     "metadata": {},
     "output_type": "execute_result"
    }
   ],
   "source": [
    "X.head()"
   ]
  },
  {
   "cell_type": "code",
   "execution_count": 12,
   "metadata": {},
   "outputs": [
    {
     "data": {
      "text/plain": [
       "<matplotlib.collections.PathCollection at 0x1e24e73d3a0>"
      ]
     },
     "execution_count": 12,
     "metadata": {},
     "output_type": "execute_result"
    },
    {
     "data": {
      "image/png": "[encoded data removed]",
      "text/plain": [
       "<Figure size 432x288 with 1 Axes>"
      ]
     },
     "metadata": {
      "needs_background": "light"
     },
     "output_type": "display_data"
    }
   ],
   "source": [
    "X.describe()\n",
    "#plt.hist(X, bins=10)\n",
    "plt.scatter(X,Y)"
   ]
  },
  {
   "cell_type": "code",
   "execution_count": 13,
   "metadata": {},
   "outputs": [
    {
     "data": {
      "text/plain": [
       "Stim_1    159.524804\n",
       "dtype: float64"
      ]
     },
     "execution_count": 13,
     "metadata": {},
     "output_type": "execute_result"
    }
   ],
   "source": [
    "pow(X.std(),2)"
   ]
  },
  {
   "cell_type": "code",
   "execution_count": 14,
   "metadata": {},
   "outputs": [
    {
     "data": {
      "text/plain": [
       "array([ 5,  7, 11, 17, 23, 29, 35, 42], dtype=int64)"
      ]
     },
     "execution_count": 14,
     "metadata": {},
     "output_type": "execute_result"
    }
   ],
   "source": [
    "x_unique = np.unique(X)\n",
    "x_unique"
   ]
  },
  {
   "cell_type": "code",
   "execution_count": 15,
   "metadata": {},
   "outputs": [
    {
     "data": {
      "text/plain": [
       "5"
      ]
     },
     "execution_count": 15,
     "metadata": {},
     "output_type": "execute_result"
    }
   ],
   "source": [
    "x_unique[0]"
   ]
  },
  {
   "cell_type": "code",
   "execution_count": 16,
   "metadata": {},
   "outputs": [
    {
     "data": {
      "text/plain": [
       "0      17\n",
       "1      42\n",
       "2      35\n",
       "3      23\n",
       "4      42\n",
       "       ..\n",
       "379    29\n",
       "380    17\n",
       "381    42\n",
       "382     7\n",
       "383    23\n",
       "Name: Stim_1, Length: 384, dtype: int64"
      ]
     },
     "execution_count": 16,
     "metadata": {},
     "output_type": "execute_result"
    }
   ],
   "source": [
    "X['Stim_1']"
   ]
  },
  {
   "cell_type": "code",
   "execution_count": 17,
   "metadata": {},
   "outputs": [
    {
     "data": {
      "text/plain": [
       "0      3.644022\n",
       "1      2.952149\n",
       "2      3.613921\n",
       "3      1.668010\n",
       "4      2.854172\n",
       "         ...   \n",
       "379    0.701020\n",
       "380    0.987109\n",
       "381    1.817511\n",
       "382    0.840083\n",
       "383    1.125681\n",
       "Name: Y, Length: 384, dtype: float64"
      ]
     },
     "execution_count": 17,
     "metadata": {},
     "output_type": "execute_result"
    }
   ],
   "source": [
    "Y['Y']"
   ]
  },
  {
   "cell_type": "markdown",
   "metadata": {},
   "source": [
    "for idx in x_unique:\n",
    "    # find mean of each freq\n",
    "    Y[X['Stim_1']==idx]= np.mean(Y[X['Stim_1']==idx])\n",
    "\n",
    "Y = Y*1000000000"
   ]
  },
  {
   "cell_type": "code",
   "execution_count": 18,
   "metadata": {},
   "outputs": [
    {
     "data": {
      "text/plain": [
       "<matplotlib.collections.PathCollection at 0x1e24e7d0e80>"
      ]
     },
     "execution_count": 18,
     "metadata": {},
     "output_type": "execute_result"
    },
    {
     "data": {
      "image/png": "[encoded data removed]",
      "text/plain": [
       "<Figure size 432x288 with 1 Axes>"
      ]
     },
     "metadata": {
      "needs_background": "light"
     },
     "output_type": "display_data"
    }
   ],
   "source": [
    "plt.scatter(X, Y)"
   ]
  },
  {
   "cell_type": "markdown",
   "metadata": {},
   "source": [
    "## 5. Defining Kernel, initializing a GP Regression model, plotting, and optimizing "
   ]
  },
  {
   "cell_type": "markdown",
   "metadata": {},
   "source": [
    "X.reset_index(drop=True, inplace=True)\n",
    "X"
   ]
  },
  {
   "cell_type": "code",
   "execution_count": 19,
   "metadata": {},
   "outputs": [],
   "source": [
    "# define kernel\n",
    "# ker = GPy.kern.RBF(input_dim=1, lengthscale=1)\n",
    "ker = GPy.kern.Matern52(input_dim=1, variance=2., lengthscale=2., ARD=True) + GPy.kern.White(1)"
   ]
  },
  {
   "cell_type": "code",
   "execution_count": 20,
   "metadata": {},
   "outputs": [
    {
     "name": "stdout",
     "output_type": "stream",
     "text": [
      "(384, 1)\n",
      "(384, 1)\n"
     ]
    }
   ],
   "source": [
    "X_reshape = X['Stim_1']\n",
    "np.shape(X_reshape)\n",
    "X_reshape = np.expand_dims(X_reshape,axis=1)\n",
    "print(np.shape(X_reshape))\n",
    "\n",
    "Y_reshape = Y['Y']\n",
    "Y_reshape = np.expand_dims(Y_reshape, axis=1)\n",
    "print(np.shape(Y_reshape))"
   ]
  },
  {
   "cell_type": "code",
   "execution_count": 21,
   "metadata": {},
   "outputs": [
    {
     "data": {
      "text/html": [
       "<style type=\"text/css\">\n",
       ".pd{\n",
       "    font-family: \"Courier New\", Courier, monospace !important;\n",
       "    width: 100%;\n",
       "    padding: 3px;\n",
       "}\n",
       "</style>\n",
       "\n",
       "<p class=pd>\n",
       "<b>Model</b>: GP regression<br>\n",
       "<b>Objective</b>: 563.458481681672<br>\n",
       "<b>Number of Parameters</b>: 4<br>\n",
       "<b>Number of Optimization Parameters</b>: 4<br>\n",
       "<b>Updates</b>: True<br>\n",
       "</p>\n",
       "<style type=\"text/css\">\n",
       ".tg  {font-family:\"Courier New\", Courier, monospace !important;padding:2px 3px;word-break:normal;border-collapse:collapse;border-spacing:0;border-color:#DCDCDC;margin:0px auto;width:100%;}\n",
       ".tg td{font-family:\"Courier New\", Courier, monospace !important;font-weight:bold;color:#444;background-color:#F7FDFA;border-style:solid;border-width:1px;overflow:hidden;word-break:normal;border-color:#DCDCDC;}\n",
       ".tg th{font-family:\"Courier New\", Courier, monospace !important;font-weight:normal;color:#fff;background-color:#26ADE4;border-style:solid;border-width:1px;overflow:hidden;word-break:normal;border-color:#DCDCDC;}\n",
       ".tg .tg-left{font-family:\"Courier New\", Courier, monospace !important;font-weight:normal;text-align:left;}\n",
       ".tg .tg-center{font-family:\"Courier New\", Courier, monospace !important;font-weight:normal;text-align:center;}\n",
       ".tg .tg-right{font-family:\"Courier New\", Courier, monospace !important;font-weight:normal;text-align:right;}\n",
       "</style>\n",
       "<table class=\"tg\"><tr><th><b>  GP_regression.         </b></th><th><b>value</b></th><th><b>constraints</b></th><th><b>priors</b></th></tr>\n",
       "<tr><td class=tg-left>  sum.Mat52.variance     </td><td class=tg-right>  2.0</td><td class=tg-center>    +ve    </td><td class=tg-center>      </td></tr>\n",
       "<tr><td class=tg-left>  sum.Mat52.lengthscale  </td><td class=tg-right>  2.0</td><td class=tg-center>    +ve    </td><td class=tg-center>      </td></tr>\n",
       "<tr><td class=tg-left>  sum.white.variance     </td><td class=tg-right>  1.0</td><td class=tg-center>    +ve    </td><td class=tg-center>      </td></tr>\n",
       "<tr><td class=tg-left>  Gaussian_noise.variance</td><td class=tg-right>  1.0</td><td class=tg-center>    +ve    </td><td class=tg-center>      </td></tr>\n",
       "</table>"
      ],
      "text/plain": [
       "<GPy.models.gp_regression.GPRegression at 0x1e24e71c4c0>"
      ]
     },
     "metadata": {},
     "output_type": "display_data"
    }
   ],
   "source": [
    "# create simple GP model\n",
    "\n",
    "m = GPy.models.GPRegression(X_reshape,Y_reshape,ker)\n",
    "display(m)"
   ]
  },
  {
   "cell_type": "code",
   "execution_count": 22,
   "metadata": {},
   "outputs": [
    {
     "data": {
      "text/html": [
       "<style type=\"text/css\">\n",
       ".pd{\n",
       "    font-family: \"Courier New\", Courier, monospace !important;\n",
       "    width: 100%;\n",
       "    padding: 3px;\n",
       "}\n",
       "</style>\n",
       "\n",
       "<p class=pd>\n",
       "<b>Model</b>: GP regression<br>\n",
       "<b>Objective</b>: 563.458481681672<br>\n",
       "<b>Number of Parameters</b>: 4<br>\n",
       "<b>Number of Optimization Parameters</b>: 4<br>\n",
       "<b>Updates</b>: True<br>\n",
       "</p>\n",
       "<style type=\"text/css\">\n",
       ".tg  {font-family:\"Courier New\", Courier, monospace !important;padding:2px 3px;word-break:normal;border-collapse:collapse;border-spacing:0;border-color:#DCDCDC;margin:0px auto;width:100%;}\n",
       ".tg td{font-family:\"Courier New\", Courier, monospace !important;font-weight:bold;color:#444;background-color:#F7FDFA;border-style:solid;border-width:1px;overflow:hidden;word-break:normal;border-color:#DCDCDC;}\n",
       ".tg th{font-family:\"Courier New\", Courier, monospace !important;font-weight:normal;color:#fff;background-color:#26ADE4;border-style:solid;border-width:1px;overflow:hidden;word-break:normal;border-color:#DCDCDC;}\n",
       ".tg .tg-left{font-family:\"Courier New\", Courier, monospace !important;font-weight:normal;text-align:left;}\n",
       ".tg .tg-center{font-family:\"Courier New\", Courier, monospace !important;font-weight:normal;text-align:center;}\n",
       ".tg .tg-right{font-family:\"Courier New\", Courier, monospace !important;font-weight:normal;text-align:right;}\n",
       "</style>\n",
       "<table class=\"tg\"><tr><th><b>  GP_regression.         </b></th><th><b>value</b></th><th><b>constraints</b></th><th><b>priors</b></th></tr>\n",
       "<tr><td class=tg-left>  sum.Mat52.variance     </td><td class=tg-right>  2.0</td><td class=tg-center>    +ve    </td><td class=tg-center>      </td></tr>\n",
       "<tr><td class=tg-left>  sum.Mat52.lengthscale  </td><td class=tg-right>  2.0</td><td class=tg-center>    +ve    </td><td class=tg-center>      </td></tr>\n",
       "<tr><td class=tg-left>  sum.white.variance     </td><td class=tg-right>  1.0</td><td class=tg-center>    +ve    </td><td class=tg-center>      </td></tr>\n",
       "<tr><td class=tg-left>  Gaussian_noise.variance</td><td class=tg-right>  1.0</td><td class=tg-center>    +ve    </td><td class=tg-center>      </td></tr>\n",
       "</table>"
      ],
      "text/plain": [
       "<GPy.models.gp_regression.GPRegression at 0x1e24e71c4c0>"
      ]
     },
     "metadata": {},
     "output_type": "display_data"
    },
    {
     "data": {
      "image/png": "[encoded data removed]",
      "text/plain": [
       "<Figure size 432x288 with 1 Axes>"
      ]
     },
     "metadata": {
      "needs_background": "light"
     },
     "output_type": "display_data"
    }
   ],
   "source": [
    "fig1 = m.plot(legend=False, xlabel='Stim. Freq.', ylabel='Post. Stim. Gamma',\n",
    "              title=\"before Optimization\");\n",
    "display(m);\n",
    "# ax = plt.gca()\n",
    "# PCM = ax.get_children()[0]\n",
    "# plt.colorbar(PCM, ax=ax);"
   ]
  },
  {
   "cell_type": "code",
   "execution_count": 23,
   "metadata": {},
   "outputs": [],
   "source": [
    "# Constrain to positive values\n",
    "# m.rbf.constrain_negative()\n",
    "# display(m)\n",
    "# m.kern.constrain_positive()\n",
    "# m.kern.constrain_negative()"
   ]
  },
  {
   "cell_type": "code",
   "execution_count": 24,
   "metadata": {},
   "outputs": [
    {
     "name": "stdout",
     "output_type": "stream",
     "text": [
      "Running L-BFGS-B (Scipy implementation) Code:\n",
      "  runtime   i      f              |g|        \n",
      "    00s17  0004   4.730505e+02   5.805514e+01 \n",
      "    00s75  0021   4.696285e+02   1.025130e-10 \n",
      "Runtime:     00s75\n",
      "Optimization status: Converged\n",
      "\n"
     ]
    }
   ],
   "source": [
    "# optimize and plot\n",
    "m.optimize(messages=True,max_f_eval = 1000);"
   ]
  },
  {
   "cell_type": "code",
   "execution_count": 25,
   "metadata": {},
   "outputs": [
    {
     "data": {
      "text/html": [
       "<style type=\"text/css\">\n",
       ".pd{\n",
       "    font-family: \"Courier New\", Courier, monospace !important;\n",
       "    width: 100%;\n",
       "    padding: 3px;\n",
       "}\n",
       "</style>\n",
       "\n",
       "<p class=pd>\n",
       "<b>Model</b>: GP regression<br>\n",
       "<b>Objective</b>: 469.6284688886095<br>\n",
       "<b>Number of Parameters</b>: 4<br>\n",
       "<b>Number of Optimization Parameters</b>: 4<br>\n",
       "<b>Updates</b>: True<br>\n",
       "</p>\n",
       "<style type=\"text/css\">\n",
       ".tg  {font-family:\"Courier New\", Courier, monospace !important;padding:2px 3px;word-break:normal;border-collapse:collapse;border-spacing:0;border-color:#DCDCDC;margin:0px auto;width:100%;}\n",
       ".tg td{font-family:\"Courier New\", Courier, monospace !important;font-weight:bold;color:#444;background-color:#F7FDFA;border-style:solid;border-width:1px;overflow:hidden;word-break:normal;border-color:#DCDCDC;}\n",
       ".tg th{font-family:\"Courier New\", Courier, monospace !important;font-weight:normal;color:#fff;background-color:#26ADE4;border-style:solid;border-width:1px;overflow:hidden;word-break:normal;border-color:#DCDCDC;}\n",
       ".tg .tg-left{font-family:\"Courier New\", Courier, monospace !important;font-weight:normal;text-align:left;}\n",
       ".tg .tg-center{font-family:\"Courier New\", Courier, monospace !important;font-weight:normal;text-align:center;}\n",
       ".tg .tg-right{font-family:\"Courier New\", Courier, monospace !important;font-weight:normal;text-align:right;}\n",
       "</style>\n",
       "<table class=\"tg\"><tr><th><b>  GP_regression.         </b></th><th><b>             value</b></th><th><b>constraints</b></th><th><b>priors</b></th></tr>\n",
       "<tr><td class=tg-left>  sum.Mat52.variance     </td><td class=tg-right>1.9240542089800987</td><td class=tg-center>    +ve    </td><td class=tg-center>      </td></tr>\n",
       "<tr><td class=tg-left>  sum.Mat52.lengthscale  </td><td class=tg-right> 7.154051447542371</td><td class=tg-center>    +ve    </td><td class=tg-center>      </td></tr>\n",
       "<tr><td class=tg-left>  sum.white.variance     </td><td class=tg-right>0.3092139074554773</td><td class=tg-center>    +ve    </td><td class=tg-center>      </td></tr>\n",
       "<tr><td class=tg-left>  Gaussian_noise.variance</td><td class=tg-right>0.3092139074554773</td><td class=tg-center>    +ve    </td><td class=tg-center>      </td></tr>\n",
       "</table>"
      ],
      "text/plain": [
       "<GPy.models.gp_regression.GPRegression at 0x1e24e71c4c0>"
      ]
     },
     "metadata": {},
     "output_type": "display_data"
    },
    {
     "data": {
      "image/png": "[encoded data removed]",
      "text/plain": [
       "<Figure size 432x288 with 1 Axes>"
      ]
     },
     "metadata": {
      "needs_background": "light"
     },
     "output_type": "display_data"
    }
   ],
   "source": [
    "figure = m.plot(legend=False, xlabel='Stim. Freq.' , ylabel='Post. Stim. Gamma', title='After Optimization');\n",
    "display(m)"
   ]
  },
  {
   "cell_type": "markdown",
   "metadata": {},
   "source": [
    "### 5.1: sampling one Std Dev minus median"
   ]
  },
  {
   "cell_type": "code",
   "execution_count": 26,
   "metadata": {},
   "outputs": [
    {
     "name": "stdout",
     "output_type": "stream",
     "text": [
      "[ 7 17  5 35 35 23  5 17 23  5] \n",
      " [5 5 5 5 5 5 5 5 5 5]\n",
      "[10 20 40 20 20 20 20 10 40 30] \n",
      " [10 10 10 10 10 10 10 10 10 10]\n"
     ]
    },
    {
     "data": {
      "text/plain": [
       "(100,)"
      ]
     },
     "execution_count": 26,
     "metadata": {},
     "output_type": "execute_result"
    }
   ],
   "source": [
    "rand_freq_1d = np.random.choice([5,7,11,17, 23, 35, 42], size=(100))\n",
    "rand_freq_1d_sorted = np.sort(rand_freq_1d)\n",
    "# np.shape(rand_freq)\n",
    "print(rand_freq_1d[0:10], '\\n', rand_freq_1d_sorted[0:10])\n",
    "rand_amp_1d = np.random.choice([10,20,30,40,50], size=(100))\n",
    "rand_amp_1d_sorted = np.sort(rand_amp_1d)\n",
    "print(rand_amp_1d[0:10], '\\n', rand_amp_1d_sorted[0:10])\n",
    "np.shape(rand_amp_1d_sorted)"
   ]
  },
  {
   "cell_type": "code",
   "execution_count": 33,
   "metadata": {},
   "outputs": [
    {
     "data": {
      "text/plain": [
       "Text(0, 0.5, 'frequencies')"
      ]
     },
     "execution_count": 33,
     "metadata": {},
     "output_type": "execute_result"
    },
    {
     "data": {
      "image/png": "[encoded data removed]",
      "text/plain": [
       "<Figure size 432x288 with 1 Axes>"
      ]
     },
     "metadata": {
      "needs_background": "light"
     },
     "output_type": "display_data"
    }
   ],
   "source": [
    "plt.hist(rand_freq_1d, bins=10)\n",
    "plt.ylabel(\"frequencies\")"
   ]
  },
  {
   "cell_type": "code",
   "execution_count": 34,
   "metadata": {},
   "outputs": [
    {
     "name": "stdout",
     "output_type": "stream",
     "text": [
      "Median rand_freq_1d:  17.0\n",
      "Std Dev of rand_freq_1d:  12.715073731599043\n"
     ]
    }
   ],
   "source": [
    "# Calculate the median\n",
    "# Calculate one Std Dev plus median\n",
    "median_rand_freq_1d = np.median(rand_freq_1d)\n",
    "print(\"Median rand_freq_1d: \", median_rand_freq_1d)\n",
    "\n",
    "SD_rand_freq_1d = np.std(rand_freq_1d)\n",
    "print(\"Std Dev of rand_freq_1d: \", SD_rand_freq_1d)"
   ]
  },
  {
   "cell_type": "code",
   "execution_count": 37,
   "metadata": {},
   "outputs": [
    {
     "data": {
      "text/plain": [
       "4.0"
      ]
     },
     "execution_count": 37,
     "metadata": {},
     "output_type": "execute_result"
    }
   ],
   "source": [
    "OneSD_minus_rand_freq_1d = np.empty((100))\n",
    "\n",
    "OneSD_minus_rand_freq_1d[:] = int(median_rand_freq_1d - SD_rand_freq_1d)\n",
    "OneSD_minus_rand_freq_1d[0]"
   ]
  },
  {
   "cell_type": "code",
   "execution_count": 38,
   "metadata": {
    "tags": []
   },
   "outputs": [
    {
     "name": "stdout",
     "output_type": "stream",
     "text": [
      "(1, 100)\n",
      "[4.]\n"
     ]
    },
    {
     "data": {
      "text/plain": [
       "(100, 1)"
      ]
     },
     "execution_count": 38,
     "metadata": {},
     "output_type": "execute_result"
    }
   ],
   "source": [
    "testX = np.array([OneSD_minus_rand_freq_1d]) #52 , 50\n",
    "print(np.shape(testX))\n",
    "testX = np.transpose(testX)\n",
    "print(testX[0])\n",
    "np.shape(testX)"
   ]
  },
  {
   "cell_type": "code",
   "execution_count": 39,
   "metadata": {},
   "outputs": [
    {
     "name": "stdout",
     "output_type": "stream",
     "text": [
      "mean is: \n",
      " [0.4338328] \n",
      "\n",
      " Variance is: \n",
      " [0.66168561]\n",
      "(100, 1, 1) \n",
      " [ 5.76826089e-01  3.73225206e-01 -1.12302738e-01  6.34372530e-01\n",
      " -9.34935005e-02 -6.21057730e-01 -7.97335066e-01 -5.33312680e-01\n",
      " -6.14721714e-01 -8.04136750e-01  1.16488159e-01 -5.86711609e-01\n",
      "  4.35902994e-02  1.65719404e-01 -1.95982539e-01  8.79478777e-02\n",
      " -6.39770395e-01  3.23751647e-01  1.07233255e+00 -4.34867808e-01\n",
      "  8.61746838e-01 -1.48965934e-01  1.26811416e+00  5.52548764e-01\n",
      "  9.11450491e-01  7.12771722e-01 -4.13634734e-01 -3.55667582e-01\n",
      "  1.72869888e-02  9.87871315e-01  1.27508201e+00 -8.74274018e-02\n",
      " -7.28932813e-01  4.40306191e-02  1.67312738e-01 -3.88858582e-02\n",
      " -2.15407988e-02 -1.24527283e+00  1.23088244e+00 -2.15124627e-01\n",
      " -3.83565474e-01 -3.70196048e-01 -5.55910503e-01 -2.46170771e-02\n",
      "  3.63833042e-01 -3.27866802e-01  3.13587093e-01  7.41810126e-01\n",
      "  3.86663733e-01 -1.37987336e+00 -4.68778882e-01 -1.27331903e-01\n",
      "  4.66835293e-02  6.37636548e-01 -2.38430684e-01 -7.26521079e-02\n",
      "  2.62074392e-02 -1.63628648e-01  1.04859458e+00 -4.88584051e-04\n",
      "  6.58070021e-01 -5.33891712e-01  8.64434095e-01  5.97412866e-02\n",
      " -1.30554616e+00  2.71730963e-01 -3.17735836e-03  1.94661206e-01\n",
      "  2.47894762e-01 -7.96327050e-01 -7.18492969e-01 -4.20852424e-02\n",
      " -3.07526664e-02 -1.73247697e-01 -3.13137227e-01  2.22847900e-01\n",
      "  5.46122898e-01 -8.36486586e-01  9.94280243e-01 -4.18002712e-01\n",
      " -2.16080820e-01 -5.54390918e-01  1.15334098e+00 -3.74791545e-01\n",
      " -4.03520185e-01  3.59718565e-01  5.71692931e-02 -2.43038263e-01\n",
      "  9.16567835e-02  1.80485020e-01  5.73183072e-01 -8.41289017e-01\n",
      "  1.20902415e+00 -5.27140664e-01 -1.00256200e+00  7.17928856e-01\n",
      " -6.80334320e-01 -1.15573620e-01  2.98566752e-01 -6.81777416e-01]\n"
     ]
    }
   ],
   "source": [
    "posteriorTestY = np.empty((100))\n",
    "simY  = np.empty((100))\n",
    "simMse = np.empty((100))\n",
    "\n",
    "posteriorTestY = m.posterior_samples_f(testX, full_cov=True, size=1)\n",
    "# print(np.shape(m.predict(testX)))\n",
    "simY, simMse = m.predict(testX)\n",
    "\n",
    "print(\"mean is: \\n\",simY[99],\"\\n\\n Variance is: \\n\", simMse[99])\n",
    "# posteriorTestY\n",
    "print(np.shape(posteriorTestY),'\\n',posteriorTestY[:,0,0])"
   ]
  },
  {
   "cell_type": "code",
   "execution_count": 40,
   "metadata": {},
   "outputs": [
    {
     "data": {
      "image/png": "[encoded data removed]",
      "text/plain": [
       "<Figure size 432x288 with 1 Axes>"
      ]
     },
     "metadata": {
      "needs_background": "light"
     },
     "output_type": "display_data"
    }
   ],
   "source": [
    "# plt.hist(posteriorTestY[:,0,0], bins=10)\n",
    "plt.ylabel(\"Sum PostStim Gamma\")\n",
    "plt.plot(posteriorTestY[:,0,0])\n",
    "plt.show()"
   ]
  },
  {
   "cell_type": "code",
   "execution_count": 41,
   "metadata": {},
   "outputs": [
    {
     "data": {
      "image/png": "[encoded data removed]",
      "text/plain": [
       "<Figure size 432x288 with 1 Axes>"
      ]
     },
     "metadata": {
      "needs_background": "light"
     },
     "output_type": "display_data"
    }
   ],
   "source": [
    "n, bins, patches = plt.hist(posteriorTestY[:,0,0], bins=10)\n",
    "max_n = int(max(n))\n",
    "plt.plot(simY[0:max_n], np.arange(0,max_n),'r--')\n",
    "plt.plot(simY[0:max_n] - 3 * simMse[0:max_n] ** 0.5, np.arange(0,max_n),'--g')\n",
    "plt.plot(simY[0:max_n] + 3 * simMse[0:max_n] ** 0.5, np.arange(0,max_n), '--g')\n",
    "plt.ylabel(\"count\")\n",
    "plt.xlabel(\"gamma power\")\n",
    "plt.legend([\"mean\",\"3 Std. Dev.\"])\n",
    "plt.show()"
   ]
  },
  {
   "cell_type": "code",
   "execution_count": 42,
   "metadata": {},
   "outputs": [
    {
     "data": {
      "image/png": "[encoded data removed]",
      "text/plain": [
       "<Figure size 432x288 with 1 Axes>"
      ]
     },
     "metadata": {
      "needs_background": "light"
     },
     "output_type": "display_data"
    }
   ],
   "source": [
    "plt.plot(posteriorTestY[:,0,0])\n",
    "plt.plot(simY, 'r--')\n",
    "plt.plot(simY + 3 * simMse** 0.5, 'b--')\n",
    "plt.plot(simY - 3 * simMse** 0.5, 'b--')\n",
    "plt.show()"
   ]
  },
  {
   "cell_type": "markdown",
   "metadata": {},
   "source": [
    "## 5.2: Sampling One SD plus median"
   ]
  },
  {
   "cell_type": "code",
   "execution_count": 43,
   "metadata": {},
   "outputs": [
    {
     "data": {
      "text/plain": [
       "29.0"
      ]
     },
     "execution_count": 43,
     "metadata": {},
     "output_type": "execute_result"
    }
   ],
   "source": [
    "OneSD_plus_rand_freq_1d = np.empty((100))\n",
    "\n",
    "OneSD_plus_rand_freq_1d[:] = int(median_rand_freq_1d + SD_rand_freq_1d)\n",
    "OneSD_plus_rand_freq_1d[0]"
   ]
  },
  {
   "cell_type": "code",
   "execution_count": 45,
   "metadata": {},
   "outputs": [
    {
     "name": "stdout",
     "output_type": "stream",
     "text": [
      "(1, 100)\n",
      "[29.]\n"
     ]
    },
    {
     "data": {
      "text/plain": [
       "(100, 1)"
      ]
     },
     "execution_count": 45,
     "metadata": {},
     "output_type": "execute_result"
    }
   ],
   "source": [
    "testX_plus = np.array([OneSD_plus_rand_freq_1d]) #52 , 50\n",
    "print(np.shape(testX_plus))\n",
    "testX_plus = np.transpose(testX_plus)\n",
    "print(testX_plus[0])\n",
    "np.shape(testX_plus)"
   ]
  },
  {
   "cell_type": "code",
   "execution_count": 47,
   "metadata": {},
   "outputs": [
    {
     "name": "stdout",
     "output_type": "stream",
     "text": [
      "mean is: \n",
      " [0.7820837] \n",
      "\n",
      " Variance is: \n",
      " [0.63105489]\n",
      "(100,) \n",
      " [ 0.65204805  0.29879129  1.45853184  1.27723398  0.5102492   0.84993558\n",
      "  0.84926569  0.70609197  1.50153291  0.8481339   0.6359793   0.55674434\n",
      "  1.13060063  1.08107973  1.0650227   1.92351923  1.85371069  1.04680112\n",
      "  0.68124357  1.21667068  0.27795432  1.29387658  0.00959693  1.79621079\n",
      "  0.7012709   1.40896389  0.21031387  1.07441674  0.85033043  1.21588102\n",
      "  0.90606864  0.74532686  0.93508114 -0.74548434  0.9455736   1.24102745\n",
      "  0.51871712  0.7087257   2.1138139   1.30410006  0.94463223  0.47935469\n",
      "  1.34877444  1.63977366  0.90439868  2.18762877  0.48130479  0.53962244\n",
      "  0.04445155  2.00882446  1.00508702  1.01582201  1.30060577  1.66074534\n",
      "  1.44506253  0.53943393  1.17397408  1.44079647  1.08204627  0.75188945\n",
      "  0.51180854  1.0304562   0.72469628  0.0280373   1.48489763  1.04403899\n",
      "  1.16499769  0.75295768  0.5245925   0.73646561  0.32332176  0.73207258\n",
      "  0.97815684  0.25352585  1.83178812  0.85095633  0.83852944  0.75044722\n",
      "  0.98523177  0.16206164  1.06492784  1.15098923  0.74403082  1.73219627\n",
      "  0.88885267 -0.33268607  1.18842946  0.5587026   0.89828653  1.33128003\n",
      "  0.17226715  0.53694123  1.07334109  0.65865499  0.5210353   0.83297571\n",
      "  1.5910509  -0.0681276   0.69866737  0.85823326]\n"
     ]
    }
   ],
   "source": [
    "posteriorTestY_plus = np.empty((100))\n",
    "simY_plus  = np.empty((100))\n",
    "simMse_plus = np.empty((100))\n",
    "\n",
    "posteriorTestY_plus = m.posterior_samples_f(testX_plus, full_cov=True, size=1)[:,0,0]\n",
    "# print(np.shape(m.predict(testX)))\n",
    "simY_plus, simMse_plus = m.predict(testX_plus)\n",
    "\n",
    "print(\"mean is: \\n\",simY_plus[99],\"\\n\\n Variance is: \\n\", simMse_plus[99])\n",
    "# posteriorTestY\n",
    "print(np.shape(posteriorTestY_plus),'\\n',posteriorTestY_plus)"
   ]
  },
  {
   "cell_type": "code",
   "execution_count": 50,
   "metadata": {},
   "outputs": [
    {
     "data": {
      "image/png": "[encoded data removed]",
      "text/plain": [
       "<Figure size 432x288 with 1 Axes>"
      ]
     },
     "metadata": {
      "needs_background": "light"
     },
     "output_type": "display_data"
    }
   ],
   "source": [
    "plt.ylabel(\"Sum PostStim Gamma\")\n",
    "plt.plot(posteriorTestY_plus)\n",
    "plt.show()"
   ]
  },
  {
   "cell_type": "code",
   "execution_count": 51,
   "metadata": {},
   "outputs": [
    {
     "data": {
      "image/png": "[encoded data removed]",
      "text/plain": [
       "<Figure size 432x288 with 1 Axes>"
      ]
     },
     "metadata": {
      "needs_background": "light"
     },
     "output_type": "display_data"
    }
   ],
   "source": [
    "n, bins, patches = plt.hist(posteriorTestY_plus, bins=10)\n",
    "max_n = int(max(n))\n",
    "plt.plot(simY_plus[0:max_n], np.arange(0,max_n),'r--')\n",
    "plt.plot(simY_plus[0:max_n] - 3 * simMse_plus[0:max_n] ** 0.5, np.arange(0,max_n),'--g')\n",
    "plt.plot(simY_plus[0:max_n] + 3 * simMse_plus[0:max_n] ** 0.5, np.arange(0,max_n), '--g')\n",
    "plt.ylabel(\"count\")\n",
    "plt.xlabel(\"gamma power\")\n",
    "plt.legend([\"mean\",\"3 Std. Dev.\"])\n",
    "plt.show()"
   ]
  },
  {
   "cell_type": "code",
   "execution_count": 52,
   "metadata": {},
   "outputs": [
    {
     "data": {
      "image/png": "[encoded data removed]",
      "text/plain": [
       "<Figure size 432x288 with 1 Axes>"
      ]
     },
     "metadata": {
      "needs_background": "light"
     },
     "output_type": "display_data"
    }
   ],
   "source": [
    "plt.plot(posteriorTestY_plus)\n",
    "plt.plot(simY_plus, 'r--')\n",
    "plt.plot(simY_plus + 3 * simMse_plus** 0.5, 'b--')\n",
    "plt.plot(simY_plus - 3 * simMse_plus** 0.5, 'b--')\n",
    "plt.show()"
   ]
  },
  {
   "cell_type": "code",
   "execution_count": null,
   "metadata": {},
   "outputs": [],
   "source": []
  }
 ],
 "metadata": {
  "kernelspec": {
   "display_name": "Python 3 (ipykernel)",
   "language": "python",
   "name": "python3"
  },
  "language_info": {
   "codemirror_mode": {
    "name": "ipython",
    "version": 3
   },
   "file_extension": ".py",
   "mimetype": "text/x-python",
   "name": "python",
   "nbconvert_exporter": "python",
   "pygments_lexer": "ipython3",
   "version": "3.8.12"
  }
 },
 "nbformat": 4,
 "nbformat_minor": 4
}
