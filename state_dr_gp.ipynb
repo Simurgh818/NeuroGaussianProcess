{
 "cells": [
  {
   "cell_type": "markdown",
   "id": "2b16b889-9ccf-4fcb-9368-4dcdc386ca2f",
   "metadata": {},
   "source": [
    "### Write a class with the following functions: \n",
    "- gp_model()\n",
    "- minimize()\n",
    "- set_initial_state()\n",
    "- stim_state = sample()\n",
    "- state_est = predict_state()\n",
    "- transition_stete()\n"
   ]
  },
  {
   "cell_type": "code",
   "execution_count": 1,
   "id": "9d18b7db-247c-4ebe-b712-b9946becebcc",
   "metadata": {},
   "outputs": [],
   "source": [
    "import numpy as np\n",
    "import matplotlib\n",
    "from matplotlib import pyplot as plt\n",
    "import seaborn as sns\n",
    "import pandas as pd\n",
    "# plt.style.use('dark_background')\n",
    "import GPy"
   ]
  },
  {
   "cell_type": "code",
   "execution_count": 2,
   "id": "addd1128-f241-4aba-a7ec-439be24eba86",
   "metadata": {},
   "outputs": [],
   "source": [
    "path = \"Mark_4sec_CA3PSD_ISO_freqamp_020619.csv\""
   ]
  },
  {
   "cell_type": "code",
   "execution_count": 32,
   "id": "21a233c7-9f44-4a24-bdc8-913adaeaa14f",
   "metadata": {},
   "outputs": [],
   "source": [
    "class state_dr_gp:\n",
    "    '''\n",
    "    A class to run a Gaussian Process model. \n",
    "    \n",
    "    \n",
    "    '''\n",
    "    def gp_model(self, csv_path):\n",
    "        \n",
    "        # Import datasets as pandas\n",
    "        CA1_df = pd.read_csv(csv_path)\n",
    "        Y = np.sum(CA1_df.iloc[:, 133:152],axis=1)\n",
    "        Y_reshape =Y[:, np.newaxis]\n",
    "        Y_reshape = Y_reshape*1e10\n",
    "        \n",
    "        # sum of pre stimulation gamma\n",
    "        data = np.sum(CA1_df.iloc[:, 33:52], axis=1)\n",
    "        sum_preStim_gamma = pd.DataFrame(data=data, columns=['sum_preStim_gamma'])\n",
    "        sum_preStim_gamma = sum_preStim_gamma*1e10\n",
    "        X = CA1_df.iloc[:,  0:2]\n",
    "        X_preStim_gamma = X.join(sum_preStim_gamma)\n",
    "        \n",
    "        return X_preStim_gamma, Y_reshape; \n",
    "    "
   ]
  },
  {
   "cell_type": "code",
   "execution_count": 34,
   "id": "868a83fe-b862-4cd2-af30-b916005f72b6",
   "metadata": {},
   "outputs": [
    {
     "name": "stdout",
     "output_type": "stream",
     "text": [
      "     Stim_1  Stim_2  sum_preStim_gamma\n",
      "0        17      30           3.266571\n",
      "1        42      40           2.425945\n",
      "2        35      30           3.117866\n",
      "3        23      50           2.868627\n",
      "4        42      50           3.521665\n",
      "..      ...     ...                ...\n",
      "379      29      40           1.268502\n",
      "380      17      50           1.239859\n",
      "381      42      30           1.880050\n",
      "382       7      50           1.199899\n",
      "383      23      50           1.343332\n",
      "\n",
      "[384 rows x 3 columns]\n"
     ]
    },
    {
     "name": "stderr",
     "output_type": "stream",
     "text": [
      " C:\\Users\\sinad\\AppData\\Local\\Temp\\ipykernel_72940\\1403158893.py:12: FutureWarning:Support for multi-dimensional indexing (e.g. `obj[:, None]`) is deprecated and will be removed in a future version.  Convert to a numpy array before indexing instead.\n"
     ]
    }
   ],
   "source": [
    "model = state_dr_gp()\n",
    "x, y = model.gp_model(path)\n",
    "print(x)"
   ]
  },
  {
   "cell_type": "code",
   "execution_count": 35,
   "id": "c2dc5d90-7c32-43d3-868c-1ee6842f3263",
   "metadata": {},
   "outputs": [
    {
     "data": {
      "text/plain": [
       "<matplotlib.collections.PathCollection at 0x16291e35220>"
      ]
     },
     "execution_count": 35,
     "metadata": {},
     "output_type": "execute_result"
    },
    {
     "data": {
      "image/png": "[encoded data removed]",
      "text/plain": [
       "<Figure size 432x288 with 1 Axes>"
      ]
     },
     "metadata": {
      "needs_background": "light"
     },
     "output_type": "display_data"
    }
   ],
   "source": [
    "plt.scatter(x['Stim_1'],y)"
   ]
  },
  {
   "cell_type": "code",
   "execution_count": null,
   "id": "d03beadd-4b70-456b-b382-4ffdfbe46f97",
   "metadata": {},
   "outputs": [],
   "source": []
  }
 ],
 "metadata": {
  "kernelspec": {
   "display_name": "Python 3 (ipykernel)",
   "language": "python",
   "name": "python3"
  },
  "language_info": {
   "codemirror_mode": {
    "name": "ipython",
    "version": 3
   },
   "file_extension": ".py",
   "mimetype": "text/x-python",
   "name": "python",
   "nbconvert_exporter": "python",
   "pygments_lexer": "ipython3",
   "version": "3.8.12"
  }
 },
 "nbformat": 4,
 "nbformat_minor": 5
}
